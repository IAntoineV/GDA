{
 "cells": [
  {
   "metadata": {},
   "cell_type": "raw",
   "source": "",
   "id": "7ebe689adebba1bf"
  },
  {
   "metadata": {},
   "cell_type": "markdown",
   "source": [
    "# GDA on histopathological images\n",
    "\n",
    "we will apply GDA"
   ],
   "id": "1945bf5fd53a98dd"
  },
  {
   "metadata": {
    "ExecuteTime": {
     "end_time": "2024-11-23T21:34:56.675673Z",
     "start_time": "2024-11-23T21:34:56.672688Z"
    }
   },
   "cell_type": "code",
   "source": "import numpy as np",
   "id": "602842ce203f1fa9",
   "outputs": [],
   "execution_count": 60
  },
  {
   "metadata": {
    "ExecuteTime": {
     "end_time": "2024-11-23T21:35:33.890942Z",
     "start_time": "2024-11-23T21:34:56.760949Z"
    }
   },
   "cell_type": "code",
   "source": [
    "import os\n",
    "from PIL import Image\n",
    "\n",
    "# Paths to train and test folders\n",
    "train_folder = \"data/histopathologic-cancer-detection/train\"\n",
    "test_folder = \"data/histopathologic-cancer-detection/test\"\n",
    "\n",
    "# Load CSV data for train labels\n",
    "import csv\n",
    "dico_labels = csv.DictReader(open(\"data/histopathologic-cancer-detection/train_labels.csv\", 'r'))\n",
    "dicos = [elt for elt in dico_labels]\n",
    "labels = np.array([elt[\"label\"] for elt in dicos])\n",
    "train_ids = [elt[\"id\"] for elt in dicos]  # IDs corresponding to training set\n",
    "\n",
    "# Initialize lists to hold images\n",
    "train_images = []\n",
    "test_images = []\n",
    "\n",
    "# Open train images\n",
    "for img_id in train_ids:\n",
    "    img_path = os.path.join(train_folder, f\"{img_id}.tif\")\n",
    "    if os.path.exists(img_path):\n",
    "        try:\n",
    "            img = np.array(Image.open(img_path))\n",
    "            length = img.shape[0]\n",
    "            start,stop = length // 2 - 4, length // 2 + 4\n",
    "            img_cropped = img[start:stop, start:stop, :]\n",
    "            train_images.append(img_cropped)\n",
    "        except Exception as e:\n",
    "            print(f\"Error loading image {img_id} from train folder: {e}\")\n",
    "\n",
    "\n",
    "print(f\"Loaded {len(train_images)} train images.\")\n"
   ],
   "id": "f9189721c15675ba",
   "outputs": [
    {
     "name": "stdout",
     "output_type": "stream",
     "text": [
      "Loaded 220025 train images.\n"
     ]
    }
   ],
   "execution_count": 61
  },
  {
   "metadata": {
    "ExecuteTime": {
     "end_time": "2024-11-23T21:35:34.019324Z",
     "start_time": "2024-11-23T21:35:33.953435Z"
    }
   },
   "cell_type": "code",
   "source": "x = np.array(train_images)",
   "id": "c8a31df3e2a3bb76",
   "outputs": [],
   "execution_count": 62
  },
  {
   "metadata": {
    "ExecuteTime": {
     "end_time": "2024-11-23T21:35:34.086736Z",
     "start_time": "2024-11-23T21:35:34.065211Z"
    }
   },
   "cell_type": "code",
   "source": [
    "from sklearn.model_selection import train_test_split\n",
    "\n",
    "X_train, X_val, y_train, y_val = train_test_split(\n",
    "    x, labels, test_size=0.2, random_state=42\n",
    ")\n"
   ],
   "id": "bd844e3230aa928c",
   "outputs": [],
   "execution_count": 63
  },
  {
   "metadata": {
    "ExecuteTime": {
     "end_time": "2024-11-23T21:36:55.826546Z",
     "start_time": "2024-11-23T21:36:53.485935Z"
    }
   },
   "cell_type": "code",
   "source": [
    "from GDA import GDA\n",
    "model = GDA(n_components=2)\n",
    "up_to = 50\n",
    "X_flatten = X_train.reshape(X_train.shape[0], -1)\n",
    "model.fit(2* X_flatten[:up_to] / 255 -1, y_train[:up_to])\n"
   ],
   "id": "8cd1848c40b95865",
   "outputs": [
    {
     "ename": "ValueError",
     "evalue": "array must not contain infs or NaNs",
     "output_type": "error",
     "traceback": [
      "\u001B[0;31m---------------------------------------------------------------------------\u001B[0m",
      "\u001B[0;31mValueError\u001B[0m                                Traceback (most recent call last)",
      "Cell \u001B[0;32mIn[70], line 5\u001B[0m\n\u001B[1;32m      3\u001B[0m up_to \u001B[38;5;241m=\u001B[39m \u001B[38;5;241m50\u001B[39m\n\u001B[1;32m      4\u001B[0m X_flatten \u001B[38;5;241m=\u001B[39m X_train\u001B[38;5;241m.\u001B[39mreshape(X_train\u001B[38;5;241m.\u001B[39mshape[\u001B[38;5;241m0\u001B[39m], \u001B[38;5;241m-\u001B[39m\u001B[38;5;241m1\u001B[39m)\n\u001B[0;32m----> 5\u001B[0m \u001B[43mmodel\u001B[49m\u001B[38;5;241;43m.\u001B[39;49m\u001B[43mfit\u001B[49m\u001B[43m(\u001B[49m\u001B[38;5;241;43m2\u001B[39;49m\u001B[38;5;241;43m*\u001B[39;49m\u001B[43m \u001B[49m\u001B[43mX_flatten\u001B[49m\u001B[43m[\u001B[49m\u001B[43m:\u001B[49m\u001B[43mup_to\u001B[49m\u001B[43m]\u001B[49m\u001B[43m \u001B[49m\u001B[38;5;241;43m/\u001B[39;49m\u001B[43m \u001B[49m\u001B[38;5;241;43m255\u001B[39;49m\u001B[43m \u001B[49m\u001B[38;5;241;43m-\u001B[39;49m\u001B[38;5;241;43m1\u001B[39;49m\u001B[43m,\u001B[49m\u001B[43m \u001B[49m\u001B[43my_train\u001B[49m\u001B[43m[\u001B[49m\u001B[43m:\u001B[49m\u001B[43mup_to\u001B[49m\u001B[43m]\u001B[49m\u001B[43m)\u001B[49m\n",
      "File \u001B[0;32m~/Bureau/3A/graphical_models/GDA/GDA.py:33\u001B[0m, in \u001B[0;36mGDA.fit\u001B[0;34m(self, X, y, n_jobs)\u001B[0m\n\u001B[1;32m     30\u001B[0m \u001B[38;5;28mself\u001B[39m\u001B[38;5;241m.\u001B[39mgmms \u001B[38;5;241m=\u001B[39m {}\n\u001B[1;32m     32\u001B[0m \u001B[38;5;66;03m# Parallel Fit GMM to each class\u001B[39;00m\n\u001B[0;32m---> 33\u001B[0m gmms \u001B[38;5;241m=\u001B[39m \u001B[43mParallel\u001B[49m\u001B[43m(\u001B[49m\u001B[43mn_jobs\u001B[49m\u001B[38;5;241;43m=\u001B[39;49m\u001B[43mn_jobs\u001B[49m\u001B[43m)\u001B[49m\u001B[43m(\u001B[49m\n\u001B[1;32m     34\u001B[0m \u001B[43m    \u001B[49m\u001B[43mdelayed\u001B[49m\u001B[43m(\u001B[49m\u001B[38;5;28;43mself\u001B[39;49m\u001B[38;5;241;43m.\u001B[39;49m\u001B[43mfit_class\u001B[49m\u001B[43m)\u001B[49m\u001B[43m(\u001B[49m\u001B[43mX\u001B[49m\u001B[43m,\u001B[49m\u001B[43m \u001B[49m\u001B[43my\u001B[49m\u001B[43m,\u001B[49m\u001B[43m \u001B[49m\u001B[38;5;28;43mcls\u001B[39;49m\u001B[43m)\u001B[49m\u001B[43m \u001B[49m\u001B[38;5;28;43;01mfor\u001B[39;49;00m\u001B[43m \u001B[49m\u001B[38;5;28;43mcls\u001B[39;49m\u001B[43m \u001B[49m\u001B[38;5;129;43;01min\u001B[39;49;00m\u001B[43m \u001B[49m\u001B[38;5;28;43mself\u001B[39;49m\u001B[38;5;241;43m.\u001B[39;49m\u001B[43mclasses_\u001B[49m\n\u001B[1;32m     35\u001B[0m \u001B[43m\u001B[49m\u001B[43m)\u001B[49m\n\u001B[1;32m     37\u001B[0m \u001B[38;5;28;01mfor\u001B[39;00m k, \u001B[38;5;28mcls\u001B[39m \u001B[38;5;129;01min\u001B[39;00m \u001B[38;5;28menumerate\u001B[39m(\u001B[38;5;28mself\u001B[39m\u001B[38;5;241m.\u001B[39mclasses_):\n\u001B[1;32m     38\u001B[0m     \u001B[38;5;28mself\u001B[39m\u001B[38;5;241m.\u001B[39mgmms[\u001B[38;5;28mcls\u001B[39m] \u001B[38;5;241m=\u001B[39m gmms[k]\n",
      "File \u001B[0;32m~/anaconda3/envs/AI/lib/python3.9/site-packages/joblib/parallel.py:1918\u001B[0m, in \u001B[0;36mParallel.__call__\u001B[0;34m(self, iterable)\u001B[0m\n\u001B[1;32m   1916\u001B[0m     output \u001B[38;5;241m=\u001B[39m \u001B[38;5;28mself\u001B[39m\u001B[38;5;241m.\u001B[39m_get_sequential_output(iterable)\n\u001B[1;32m   1917\u001B[0m     \u001B[38;5;28mnext\u001B[39m(output)\n\u001B[0;32m-> 1918\u001B[0m     \u001B[38;5;28;01mreturn\u001B[39;00m output \u001B[38;5;28;01mif\u001B[39;00m \u001B[38;5;28mself\u001B[39m\u001B[38;5;241m.\u001B[39mreturn_generator \u001B[38;5;28;01melse\u001B[39;00m \u001B[38;5;28;43mlist\u001B[39;49m\u001B[43m(\u001B[49m\u001B[43moutput\u001B[49m\u001B[43m)\u001B[49m\n\u001B[1;32m   1920\u001B[0m \u001B[38;5;66;03m# Let's create an ID that uniquely identifies the current call. If the\u001B[39;00m\n\u001B[1;32m   1921\u001B[0m \u001B[38;5;66;03m# call is interrupted early and that the same instance is immediately\u001B[39;00m\n\u001B[1;32m   1922\u001B[0m \u001B[38;5;66;03m# re-used, this id will be used to prevent workers that were\u001B[39;00m\n\u001B[1;32m   1923\u001B[0m \u001B[38;5;66;03m# concurrently finalizing a task from the previous call to run the\u001B[39;00m\n\u001B[1;32m   1924\u001B[0m \u001B[38;5;66;03m# callback.\u001B[39;00m\n\u001B[1;32m   1925\u001B[0m \u001B[38;5;28;01mwith\u001B[39;00m \u001B[38;5;28mself\u001B[39m\u001B[38;5;241m.\u001B[39m_lock:\n",
      "File \u001B[0;32m~/anaconda3/envs/AI/lib/python3.9/site-packages/joblib/parallel.py:1847\u001B[0m, in \u001B[0;36mParallel._get_sequential_output\u001B[0;34m(self, iterable)\u001B[0m\n\u001B[1;32m   1845\u001B[0m \u001B[38;5;28mself\u001B[39m\u001B[38;5;241m.\u001B[39mn_dispatched_batches \u001B[38;5;241m+\u001B[39m\u001B[38;5;241m=\u001B[39m \u001B[38;5;241m1\u001B[39m\n\u001B[1;32m   1846\u001B[0m \u001B[38;5;28mself\u001B[39m\u001B[38;5;241m.\u001B[39mn_dispatched_tasks \u001B[38;5;241m+\u001B[39m\u001B[38;5;241m=\u001B[39m \u001B[38;5;241m1\u001B[39m\n\u001B[0;32m-> 1847\u001B[0m res \u001B[38;5;241m=\u001B[39m \u001B[43mfunc\u001B[49m\u001B[43m(\u001B[49m\u001B[38;5;241;43m*\u001B[39;49m\u001B[43margs\u001B[49m\u001B[43m,\u001B[49m\u001B[43m \u001B[49m\u001B[38;5;241;43m*\u001B[39;49m\u001B[38;5;241;43m*\u001B[39;49m\u001B[43mkwargs\u001B[49m\u001B[43m)\u001B[49m\n\u001B[1;32m   1848\u001B[0m \u001B[38;5;28mself\u001B[39m\u001B[38;5;241m.\u001B[39mn_completed_tasks \u001B[38;5;241m+\u001B[39m\u001B[38;5;241m=\u001B[39m \u001B[38;5;241m1\u001B[39m\n\u001B[1;32m   1849\u001B[0m \u001B[38;5;28mself\u001B[39m\u001B[38;5;241m.\u001B[39mprint_progress()\n",
      "File \u001B[0;32m~/Bureau/3A/graphical_models/GDA/GDA.py:26\u001B[0m, in \u001B[0;36mGDA.fit_class\u001B[0;34m(self, X, y, cls)\u001B[0m\n\u001B[1;32m     24\u001B[0m \u001B[38;5;28;01melse\u001B[39;00m:\n\u001B[1;32m     25\u001B[0m     gmm \u001B[38;5;241m=\u001B[39m GMM(n_components\u001B[38;5;241m=\u001B[39mgmm_components, \u001B[38;5;241m*\u001B[39m\u001B[38;5;241m*\u001B[39m\u001B[38;5;28mself\u001B[39m\u001B[38;5;241m.\u001B[39mGMM_kwargs)\n\u001B[0;32m---> 26\u001B[0m     \u001B[43mgmm\u001B[49m\u001B[38;5;241;43m.\u001B[39;49m\u001B[43mfit\u001B[49m\u001B[43m(\u001B[49m\u001B[43mX\u001B[49m\u001B[43m[\u001B[49m\u001B[43my\u001B[49m\u001B[43m \u001B[49m\u001B[38;5;241;43m==\u001B[39;49m\u001B[43m \u001B[49m\u001B[38;5;28;43mcls\u001B[39;49m\u001B[43m]\u001B[49m\u001B[43m)\u001B[49m\n\u001B[1;32m     27\u001B[0m     \u001B[38;5;28;01mreturn\u001B[39;00m gmm\n",
      "File \u001B[0;32m~/Bureau/3A/graphical_models/GDA/GMMs.py:130\u001B[0m, in \u001B[0;36mGMM.fit\u001B[0;34m(self, X, verbose)\u001B[0m\n\u001B[1;32m    128\u001B[0m     \u001B[38;5;28mprint\u001B[39m(\u001B[38;5;124mf\u001B[39m\u001B[38;5;124m'\u001B[39m\u001B[38;5;132;01m{\u001B[39;00m\u001B[38;5;250m \u001B[39m\u001B[38;5;28mint\u001B[39m(\u001B[38;5;241m1000\u001B[39m\u001B[38;5;250m \u001B[39m\u001B[38;5;241m*\u001B[39m\u001B[38;5;250m \u001B[39mi\u001B[38;5;250m \u001B[39m\u001B[38;5;241m/\u001B[39m\u001B[38;5;250m \u001B[39m\u001B[38;5;28mself\u001B[39m\u001B[38;5;241m.\u001B[39mmax_iter)\u001B[38;5;241m/\u001B[39m\u001B[38;5;241m10\u001B[39m\u001B[38;5;250m \u001B[39m\u001B[38;5;132;01m}\u001B[39;00m\u001B[38;5;124m% fit\u001B[39m\u001B[38;5;124m'\u001B[39m)\n\u001B[1;32m    129\u001B[0m \u001B[38;5;66;03m# E-step\u001B[39;00m\n\u001B[0;32m--> 130\u001B[0m responsibilities, total_likelihood \u001B[38;5;241m=\u001B[39m \u001B[38;5;28;43mself\u001B[39;49m\u001B[38;5;241;43m.\u001B[39;49m\u001B[43m_e_step\u001B[49m\u001B[43m(\u001B[49m\u001B[43mX\u001B[49m\u001B[43m)\u001B[49m\n\u001B[1;32m    132\u001B[0m \u001B[38;5;66;03m# M-step\u001B[39;00m\n\u001B[1;32m    133\u001B[0m \u001B[38;5;28mself\u001B[39m\u001B[38;5;241m.\u001B[39m_m_step(X, responsibilities)\n",
      "File \u001B[0;32m~/Bureau/3A/graphical_models/GDA/GMMs.py:83\u001B[0m, in \u001B[0;36mGMM._e_step\u001B[0;34m(self, X)\u001B[0m\n\u001B[1;32m     70\u001B[0m \u001B[38;5;250m\u001B[39m\u001B[38;5;124;03m\"\"\"\u001B[39;00m\n\u001B[1;32m     71\u001B[0m \u001B[38;5;124;03mE-step: Compute the responsibilities for each Gaussian component.\u001B[39;00m\n\u001B[1;32m     72\u001B[0m \n\u001B[0;32m   (...)\u001B[0m\n\u001B[1;32m     80\u001B[0m \u001B[38;5;124;03m  given the paraemeters.\u001B[39;00m\n\u001B[1;32m     81\u001B[0m \u001B[38;5;124;03m\"\"\"\u001B[39;00m\n\u001B[1;32m     82\u001B[0m n_samples, n_features \u001B[38;5;241m=\u001B[39m X\u001B[38;5;241m.\u001B[39mshape\n\u001B[0;32m---> 83\u001B[0m likelihoods \u001B[38;5;241m=\u001B[39m \u001B[38;5;28;43mself\u001B[39;49m\u001B[38;5;241;43m.\u001B[39;49m\u001B[43m_likelihoods\u001B[49m\u001B[43m(\u001B[49m\u001B[43mX\u001B[49m\u001B[43m)\u001B[49m\n\u001B[1;32m     84\u001B[0m \u001B[38;5;66;03m# Compute responsibilities (posterior probabilities)\u001B[39;00m\n\u001B[1;32m     85\u001B[0m total_likelihood \u001B[38;5;241m=\u001B[39m np\u001B[38;5;241m.\u001B[39msum(likelihoods, axis\u001B[38;5;241m=\u001B[39m\u001B[38;5;241m1\u001B[39m, keepdims\u001B[38;5;241m=\u001B[39m\u001B[38;5;28;01mTrue\u001B[39;00m)\n",
      "File \u001B[0;32m~/Bureau/3A/graphical_models/GDA/GMMs.py:64\u001B[0m, in \u001B[0;36mGMM._likelihoods\u001B[0;34m(self, X)\u001B[0m\n\u001B[1;32m     62\u001B[0m \u001B[38;5;66;03m# Compute the likelihood of each data point under each Gaussian component\u001B[39;00m\n\u001B[1;32m     63\u001B[0m \u001B[38;5;28;01mfor\u001B[39;00m k \u001B[38;5;129;01min\u001B[39;00m \u001B[38;5;28mrange\u001B[39m(\u001B[38;5;28mself\u001B[39m\u001B[38;5;241m.\u001B[39mn_components):\n\u001B[0;32m---> 64\u001B[0m     likelihoods[:, k] \u001B[38;5;241m=\u001B[39m \u001B[38;5;28mself\u001B[39m\u001B[38;5;241m.\u001B[39mweights_[k] \u001B[38;5;241m*\u001B[39m \u001B[43mmultivariate_normal\u001B[49m\u001B[38;5;241;43m.\u001B[39;49m\u001B[43mpdf\u001B[49m\u001B[43m(\u001B[49m\n\u001B[1;32m     65\u001B[0m \u001B[43m        \u001B[49m\u001B[43mX\u001B[49m\u001B[43m,\u001B[49m\u001B[43m \u001B[49m\u001B[43mmean\u001B[49m\u001B[38;5;241;43m=\u001B[39;49m\u001B[38;5;28;43mself\u001B[39;49m\u001B[38;5;241;43m.\u001B[39;49m\u001B[43mmeans_\u001B[49m\u001B[43m[\u001B[49m\u001B[43mk\u001B[49m\u001B[43m]\u001B[49m\u001B[43m,\u001B[49m\u001B[43m \u001B[49m\u001B[43mcov\u001B[49m\u001B[38;5;241;43m=\u001B[39;49m\u001B[38;5;28;43mself\u001B[39;49m\u001B[38;5;241;43m.\u001B[39;49m\u001B[43mcovariances_\u001B[49m\u001B[43m[\u001B[49m\u001B[43mk\u001B[49m\u001B[43m]\u001B[49m\u001B[43m,\u001B[49m\u001B[43m \u001B[49m\u001B[43mallow_singular\u001B[49m\u001B[38;5;241;43m=\u001B[39;49m\u001B[38;5;28;43;01mTrue\u001B[39;49;00m\n\u001B[1;32m     66\u001B[0m \u001B[43m    \u001B[49m\u001B[43m)\u001B[49m\n\u001B[1;32m     67\u001B[0m \u001B[38;5;28;01mreturn\u001B[39;00m likelihoods\n",
      "File \u001B[0;32m~/anaconda3/envs/AI/lib/python3.9/site-packages/scipy/stats/_multivariate.py:584\u001B[0m, in \u001B[0;36mmultivariate_normal_gen.pdf\u001B[0;34m(self, x, mean, cov, allow_singular)\u001B[0m\n\u001B[1;32m    565\u001B[0m \u001B[38;5;28;01mdef\u001B[39;00m \u001B[38;5;21mpdf\u001B[39m(\u001B[38;5;28mself\u001B[39m, x, mean\u001B[38;5;241m=\u001B[39m\u001B[38;5;28;01mNone\u001B[39;00m, cov\u001B[38;5;241m=\u001B[39m\u001B[38;5;241m1\u001B[39m, allow_singular\u001B[38;5;241m=\u001B[39m\u001B[38;5;28;01mFalse\u001B[39;00m):\n\u001B[1;32m    566\u001B[0m \u001B[38;5;250m    \u001B[39m\u001B[38;5;124;03m\"\"\"Multivariate normal probability density function.\u001B[39;00m\n\u001B[1;32m    567\u001B[0m \n\u001B[1;32m    568\u001B[0m \u001B[38;5;124;03m    Parameters\u001B[39;00m\n\u001B[0;32m   (...)\u001B[0m\n\u001B[1;32m    582\u001B[0m \n\u001B[1;32m    583\u001B[0m \u001B[38;5;124;03m    \"\"\"\u001B[39;00m\n\u001B[0;32m--> 584\u001B[0m     params \u001B[38;5;241m=\u001B[39m \u001B[38;5;28;43mself\u001B[39;49m\u001B[38;5;241;43m.\u001B[39;49m\u001B[43m_process_parameters\u001B[49m\u001B[43m(\u001B[49m\u001B[43mmean\u001B[49m\u001B[43m,\u001B[49m\u001B[43m \u001B[49m\u001B[43mcov\u001B[49m\u001B[43m,\u001B[49m\u001B[43m \u001B[49m\u001B[43mallow_singular\u001B[49m\u001B[43m)\u001B[49m\n\u001B[1;32m    585\u001B[0m     dim, mean, cov_object \u001B[38;5;241m=\u001B[39m params\n\u001B[1;32m    586\u001B[0m     x \u001B[38;5;241m=\u001B[39m \u001B[38;5;28mself\u001B[39m\u001B[38;5;241m.\u001B[39m_process_quantiles(x, dim)\n",
      "File \u001B[0;32m~/anaconda3/envs/AI/lib/python3.9/site-packages/scipy/stats/_multivariate.py:421\u001B[0m, in \u001B[0;36mmultivariate_normal_gen._process_parameters\u001B[0;34m(self, mean, cov, allow_singular)\u001B[0m\n\u001B[1;32m    414\u001B[0m dim, mean, cov \u001B[38;5;241m=\u001B[39m \u001B[38;5;28mself\u001B[39m\u001B[38;5;241m.\u001B[39m_process_parameters_psd(\u001B[38;5;28;01mNone\u001B[39;00m, mean, cov)\n\u001B[1;32m    415\u001B[0m \u001B[38;5;66;03m# After input validation, some methods then processed the arrays\u001B[39;00m\n\u001B[1;32m    416\u001B[0m \u001B[38;5;66;03m# with a `_PSD` object and used that to perform computation.\u001B[39;00m\n\u001B[1;32m    417\u001B[0m \u001B[38;5;66;03m# To avoid branching statements in each method depending on whether\u001B[39;00m\n\u001B[1;32m    418\u001B[0m \u001B[38;5;66;03m# `cov` is an array or `Covariance` object, we always process the\u001B[39;00m\n\u001B[1;32m    419\u001B[0m \u001B[38;5;66;03m# array with `_PSD`, and then use wrapper that satisfies the\u001B[39;00m\n\u001B[1;32m    420\u001B[0m \u001B[38;5;66;03m# `Covariance` interface, `CovViaPSD`.\u001B[39;00m\n\u001B[0;32m--> 421\u001B[0m psd \u001B[38;5;241m=\u001B[39m \u001B[43m_PSD\u001B[49m\u001B[43m(\u001B[49m\u001B[43mcov\u001B[49m\u001B[43m,\u001B[49m\u001B[43m \u001B[49m\u001B[43mallow_singular\u001B[49m\u001B[38;5;241;43m=\u001B[39;49m\u001B[43mallow_singular\u001B[49m\u001B[43m)\u001B[49m\n\u001B[1;32m    422\u001B[0m cov_object \u001B[38;5;241m=\u001B[39m _covariance\u001B[38;5;241m.\u001B[39mCovViaPSD(psd)\n\u001B[1;32m    423\u001B[0m \u001B[38;5;28;01mreturn\u001B[39;00m dim, mean, cov_object\n",
      "File \u001B[0;32m~/anaconda3/envs/AI/lib/python3.9/site-packages/scipy/stats/_multivariate.py:164\u001B[0m, in \u001B[0;36m_PSD.__init__\u001B[0;34m(self, M, cond, rcond, lower, check_finite, allow_singular)\u001B[0m\n\u001B[1;32m    159\u001B[0m \u001B[38;5;28mself\u001B[39m\u001B[38;5;241m.\u001B[39m_M \u001B[38;5;241m=\u001B[39m np\u001B[38;5;241m.\u001B[39masarray(M)\n\u001B[1;32m    161\u001B[0m \u001B[38;5;66;03m# Compute the symmetric eigendecomposition.\u001B[39;00m\n\u001B[1;32m    162\u001B[0m \u001B[38;5;66;03m# Note that eigh takes care of array conversion, chkfinite,\u001B[39;00m\n\u001B[1;32m    163\u001B[0m \u001B[38;5;66;03m# and assertion that the matrix is square.\u001B[39;00m\n\u001B[0;32m--> 164\u001B[0m s, u \u001B[38;5;241m=\u001B[39m \u001B[43mscipy\u001B[49m\u001B[38;5;241;43m.\u001B[39;49m\u001B[43mlinalg\u001B[49m\u001B[38;5;241;43m.\u001B[39;49m\u001B[43meigh\u001B[49m\u001B[43m(\u001B[49m\u001B[43mM\u001B[49m\u001B[43m,\u001B[49m\u001B[43m \u001B[49m\u001B[43mlower\u001B[49m\u001B[38;5;241;43m=\u001B[39;49m\u001B[43mlower\u001B[49m\u001B[43m,\u001B[49m\u001B[43m \u001B[49m\u001B[43mcheck_finite\u001B[49m\u001B[38;5;241;43m=\u001B[39;49m\u001B[43mcheck_finite\u001B[49m\u001B[43m)\u001B[49m\n\u001B[1;32m    166\u001B[0m eps \u001B[38;5;241m=\u001B[39m _eigvalsh_to_eps(s, cond, rcond)\n\u001B[1;32m    167\u001B[0m \u001B[38;5;28;01mif\u001B[39;00m np\u001B[38;5;241m.\u001B[39mmin(s) \u001B[38;5;241m<\u001B[39m \u001B[38;5;241m-\u001B[39meps:\n",
      "File \u001B[0;32m~/anaconda3/envs/AI/lib/python3.9/site-packages/scipy/_lib/deprecation.py:213\u001B[0m, in \u001B[0;36m_deprecate_positional_args.<locals>._inner_deprecate_positional_args.<locals>.inner_f\u001B[0;34m(*args, **kwargs)\u001B[0m\n\u001B[1;32m    211\u001B[0m extra_args \u001B[38;5;241m=\u001B[39m \u001B[38;5;28mlen\u001B[39m(args) \u001B[38;5;241m-\u001B[39m \u001B[38;5;28mlen\u001B[39m(all_args)\n\u001B[1;32m    212\u001B[0m \u001B[38;5;28;01mif\u001B[39;00m extra_args \u001B[38;5;241m<\u001B[39m\u001B[38;5;241m=\u001B[39m \u001B[38;5;241m0\u001B[39m:\n\u001B[0;32m--> 213\u001B[0m     \u001B[38;5;28;01mreturn\u001B[39;00m \u001B[43mf\u001B[49m\u001B[43m(\u001B[49m\u001B[38;5;241;43m*\u001B[39;49m\u001B[43margs\u001B[49m\u001B[43m,\u001B[49m\u001B[43m \u001B[49m\u001B[38;5;241;43m*\u001B[39;49m\u001B[38;5;241;43m*\u001B[39;49m\u001B[43mkwargs\u001B[49m\u001B[43m)\u001B[49m\n\u001B[1;32m    215\u001B[0m \u001B[38;5;66;03m# extra_args > 0\u001B[39;00m\n\u001B[1;32m    216\u001B[0m args_msg \u001B[38;5;241m=\u001B[39m [\n\u001B[1;32m    217\u001B[0m     \u001B[38;5;124mf\u001B[39m\u001B[38;5;124m\"\u001B[39m\u001B[38;5;132;01m{\u001B[39;00mname\u001B[38;5;132;01m}\u001B[39;00m\u001B[38;5;124m=\u001B[39m\u001B[38;5;132;01m{\u001B[39;00marg\u001B[38;5;132;01m}\u001B[39;00m\u001B[38;5;124m\"\u001B[39m\n\u001B[1;32m    218\u001B[0m     \u001B[38;5;28;01mfor\u001B[39;00m name, arg \u001B[38;5;129;01min\u001B[39;00m \u001B[38;5;28mzip\u001B[39m(kwonly_args[:extra_args], args[\u001B[38;5;241m-\u001B[39mextra_args:])\n\u001B[1;32m    219\u001B[0m ]\n",
      "File \u001B[0;32m~/anaconda3/envs/AI/lib/python3.9/site-packages/scipy/linalg/_decomp.py:464\u001B[0m, in \u001B[0;36meigh\u001B[0;34m(a, b, lower, eigvals_only, overwrite_a, overwrite_b, turbo, eigvals, type, check_finite, subset_by_index, subset_by_value, driver)\u001B[0m\n\u001B[1;32m    460\u001B[0m \u001B[38;5;28;01mif\u001B[39;00m driver \u001B[38;5;129;01mnot\u001B[39;00m \u001B[38;5;129;01min\u001B[39;00m drv_str:\n\u001B[1;32m    461\u001B[0m     \u001B[38;5;28;01mraise\u001B[39;00m \u001B[38;5;167;01mValueError\u001B[39;00m(\u001B[38;5;124m'\u001B[39m\u001B[38;5;124m\"\u001B[39m\u001B[38;5;132;01m{}\u001B[39;00m\u001B[38;5;124m\"\u001B[39m\u001B[38;5;124m is unknown. Possible values are \u001B[39m\u001B[38;5;124m\"\u001B[39m\u001B[38;5;124mNone\u001B[39m\u001B[38;5;124m\"\u001B[39m\u001B[38;5;124m, \u001B[39m\u001B[38;5;124m\"\u001B[39m\u001B[38;5;132;01m{}\u001B[39;00m\u001B[38;5;124m\"\u001B[39m\u001B[38;5;124m.\u001B[39m\u001B[38;5;124m'\u001B[39m\n\u001B[1;32m    462\u001B[0m                      \u001B[38;5;124m'\u001B[39m\u001B[38;5;124m'\u001B[39m\u001B[38;5;241m.\u001B[39mformat(driver, \u001B[38;5;124m'\u001B[39m\u001B[38;5;124m\"\u001B[39m\u001B[38;5;124m, \u001B[39m\u001B[38;5;124m\"\u001B[39m\u001B[38;5;124m'\u001B[39m\u001B[38;5;241m.\u001B[39mjoin(drv_str[\u001B[38;5;241m1\u001B[39m:])))\n\u001B[0;32m--> 464\u001B[0m a1 \u001B[38;5;241m=\u001B[39m \u001B[43m_asarray_validated\u001B[49m\u001B[43m(\u001B[49m\u001B[43ma\u001B[49m\u001B[43m,\u001B[49m\u001B[43m \u001B[49m\u001B[43mcheck_finite\u001B[49m\u001B[38;5;241;43m=\u001B[39;49m\u001B[43mcheck_finite\u001B[49m\u001B[43m)\u001B[49m\n\u001B[1;32m    465\u001B[0m \u001B[38;5;28;01mif\u001B[39;00m \u001B[38;5;28mlen\u001B[39m(a1\u001B[38;5;241m.\u001B[39mshape) \u001B[38;5;241m!=\u001B[39m \u001B[38;5;241m2\u001B[39m \u001B[38;5;129;01mor\u001B[39;00m a1\u001B[38;5;241m.\u001B[39mshape[\u001B[38;5;241m0\u001B[39m] \u001B[38;5;241m!=\u001B[39m a1\u001B[38;5;241m.\u001B[39mshape[\u001B[38;5;241m1\u001B[39m]:\n\u001B[1;32m    466\u001B[0m     \u001B[38;5;28;01mraise\u001B[39;00m \u001B[38;5;167;01mValueError\u001B[39;00m(\u001B[38;5;124m'\u001B[39m\u001B[38;5;124mexpected square \u001B[39m\u001B[38;5;124m\"\u001B[39m\u001B[38;5;124ma\u001B[39m\u001B[38;5;124m\"\u001B[39m\u001B[38;5;124m matrix\u001B[39m\u001B[38;5;124m'\u001B[39m)\n",
      "File \u001B[0;32m~/anaconda3/envs/AI/lib/python3.9/site-packages/scipy/_lib/_util.py:321\u001B[0m, in \u001B[0;36m_asarray_validated\u001B[0;34m(a, check_finite, sparse_ok, objects_ok, mask_ok, as_inexact)\u001B[0m\n\u001B[1;32m    319\u001B[0m         \u001B[38;5;28;01mraise\u001B[39;00m \u001B[38;5;167;01mValueError\u001B[39;00m(\u001B[38;5;124m'\u001B[39m\u001B[38;5;124mmasked arrays are not supported\u001B[39m\u001B[38;5;124m'\u001B[39m)\n\u001B[1;32m    320\u001B[0m toarray \u001B[38;5;241m=\u001B[39m np\u001B[38;5;241m.\u001B[39masarray_chkfinite \u001B[38;5;28;01mif\u001B[39;00m check_finite \u001B[38;5;28;01melse\u001B[39;00m np\u001B[38;5;241m.\u001B[39masarray\n\u001B[0;32m--> 321\u001B[0m a \u001B[38;5;241m=\u001B[39m \u001B[43mtoarray\u001B[49m\u001B[43m(\u001B[49m\u001B[43ma\u001B[49m\u001B[43m)\u001B[49m\n\u001B[1;32m    322\u001B[0m \u001B[38;5;28;01mif\u001B[39;00m \u001B[38;5;129;01mnot\u001B[39;00m objects_ok:\n\u001B[1;32m    323\u001B[0m     \u001B[38;5;28;01mif\u001B[39;00m a\u001B[38;5;241m.\u001B[39mdtype \u001B[38;5;129;01mis\u001B[39;00m np\u001B[38;5;241m.\u001B[39mdtype(\u001B[38;5;124m'\u001B[39m\u001B[38;5;124mO\u001B[39m\u001B[38;5;124m'\u001B[39m):\n",
      "File \u001B[0;32m~/anaconda3/envs/AI/lib/python3.9/site-packages/numpy/lib/_function_base_impl.py:649\u001B[0m, in \u001B[0;36masarray_chkfinite\u001B[0;34m(a, dtype, order)\u001B[0m\n\u001B[1;32m    647\u001B[0m a \u001B[38;5;241m=\u001B[39m asarray(a, dtype\u001B[38;5;241m=\u001B[39mdtype, order\u001B[38;5;241m=\u001B[39morder)\n\u001B[1;32m    648\u001B[0m \u001B[38;5;28;01mif\u001B[39;00m a\u001B[38;5;241m.\u001B[39mdtype\u001B[38;5;241m.\u001B[39mchar \u001B[38;5;129;01min\u001B[39;00m typecodes[\u001B[38;5;124m'\u001B[39m\u001B[38;5;124mAllFloat\u001B[39m\u001B[38;5;124m'\u001B[39m] \u001B[38;5;129;01mand\u001B[39;00m \u001B[38;5;129;01mnot\u001B[39;00m np\u001B[38;5;241m.\u001B[39misfinite(a)\u001B[38;5;241m.\u001B[39mall():\n\u001B[0;32m--> 649\u001B[0m     \u001B[38;5;28;01mraise\u001B[39;00m \u001B[38;5;167;01mValueError\u001B[39;00m(\n\u001B[1;32m    650\u001B[0m         \u001B[38;5;124m\"\u001B[39m\u001B[38;5;124marray must not contain infs or NaNs\u001B[39m\u001B[38;5;124m\"\u001B[39m)\n\u001B[1;32m    651\u001B[0m \u001B[38;5;28;01mreturn\u001B[39;00m a\n",
      "\u001B[0;31mValueError\u001B[0m: array must not contain infs or NaNs"
     ]
    }
   ],
   "execution_count": 70
  },
  {
   "metadata": {},
   "cell_type": "code",
   "outputs": [],
   "execution_count": null,
   "source": "",
   "id": "ba2d55e8853a196d"
  }
 ],
 "metadata": {
  "kernelspec": {
   "display_name": "Python 3",
   "language": "python",
   "name": "python3"
  },
  "language_info": {
   "codemirror_mode": {
    "name": "ipython",
    "version": 2
   },
   "file_extension": ".py",
   "mimetype": "text/x-python",
   "name": "python",
   "nbconvert_exporter": "python",
   "pygments_lexer": "ipython2",
   "version": "2.7.6"
  }
 },
 "nbformat": 4,
 "nbformat_minor": 5
}

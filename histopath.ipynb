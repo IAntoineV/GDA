{
 "cells": [
  {
   "metadata": {},
   "cell_type": "raw",
   "source": "",
   "id": "7ebe689adebba1bf"
  },
  {
   "metadata": {},
   "cell_type": "markdown",
   "source": [
    "# GDA on histopathological images\n",
    "\n",
    "we will apply GDA"
   ],
   "id": "1945bf5fd53a98dd"
  },
  {
   "metadata": {
    "ExecuteTime": {
     "end_time": "2024-11-24T11:27:52.593402Z",
     "start_time": "2024-11-24T11:27:52.549419Z"
    }
   },
   "cell_type": "code",
   "source": [
    "import numpy as np\n",
    "import os\n",
    "from PIL import Image\n"
   ],
   "id": "602842ce203f1fa9",
   "outputs": [],
   "execution_count": 1
  },
  {
   "metadata": {
    "ExecuteTime": {
     "end_time": "2024-11-24T11:29:18.552082Z",
     "start_time": "2024-11-24T11:28:37.261527Z"
    }
   },
   "cell_type": "code",
   "source": [
    "def load_data(force_load=False, size_considered = 2):\n",
    "    dir = \"data/histopathologic-cancer-detection/\"\n",
    "    # Paths to train and test folders\n",
    "    \n",
    "\n",
    "    train_folder = dir + \"train\"\n",
    "    \n",
    "    # Load CSV data for train labels\n",
    "    import csv\n",
    "    dico_labels = csv.DictReader(open( dir + \"train_labels.csv\", 'r'))\n",
    "    dicos = [elt for elt in dico_labels]\n",
    "    labels = np.array([elt[\"label\"] for elt in dicos])\n",
    "    train_ids = [elt[\"id\"] for elt in dicos]  # IDs corresponding to training set\n",
    "    \n",
    "    if os.path.exists(dir + \"x.npy\") and not force_load:\n",
    "        x = np.load(dir + \"x.npy\")\n",
    "        return x, labels, train_ids\n",
    "    # Initialize lists to hold images\n",
    "    train_images = []\n",
    "    \n",
    "    # Open train images\n",
    "    for img_id in train_ids:\n",
    "        img_path = os.path.join(train_folder, f\"{img_id}.tif\")\n",
    "        if os.path.exists(img_path):\n",
    "            try:\n",
    "                img = np.array(Image.open(img_path))\n",
    "                length = img.shape[0]\n",
    "                start,stop = length // 2 - 16, length // 2 + 16\n",
    "                \n",
    "                img_cropped = img[start:stop, start:stop, :]\n",
    "                \n",
    "                resized_pil_image = Image.fromarray(img_cropped).resize((size_considered, size_considered))\n",
    "                resized_np_img = np.array(resized_pil_image)\n",
    "                train_images.append(resized_np_img)\n",
    "            except Exception as e:\n",
    "                print(f\"Error loading image {img_id} from train folder: {e}\")\n",
    "    \n",
    "    print(f\"Loaded {len(train_images)} train images.\")\n",
    "    x = np.array(train_images)\n",
    "    np.save(open(dir + \"x.npy\", 'wb'), x)\n",
    "    return x, labels, train_ids\n",
    "    \n",
    "    \n",
    "\n",
    "x,labels,train_ids = load_data(force_load=True,size_considered=1)"
   ],
   "id": "f9189721c15675ba",
   "outputs": [
    {
     "name": "stdout",
     "output_type": "stream",
     "text": [
      "Loaded 220025 train images.\n"
     ]
    }
   ],
   "execution_count": 5
  },
  {
   "metadata": {
    "ExecuteTime": {
     "end_time": "2024-11-24T11:29:18.626483Z",
     "start_time": "2024-11-24T11:29:18.619263Z"
    }
   },
   "cell_type": "code",
   "source": [
    "from sklearn.model_selection import train_test_split\n",
    "\n",
    "X_train, X_val, y_train, y_val = train_test_split(\n",
    "    x, labels, test_size=0.2, random_state=42\n",
    ")\n"
   ],
   "id": "bd844e3230aa928c",
   "outputs": [],
   "execution_count": 6
  },
  {
   "metadata": {
    "ExecuteTime": {
     "end_time": "2024-11-24T11:29:29.476440Z",
     "start_time": "2024-11-24T11:29:18.672104Z"
    }
   },
   "cell_type": "code",
   "source": [
    "from GDA import GDA\n",
    "import torch\n",
    "X_flatten = X_train.reshape(X_train.shape[0], -1) / 255\n",
    "dim = X_flatten.shape[1]\n",
    "print(\"dim : \", dim)\n",
    "model = GDA(n_components=20, km_init=True, km_cov_init=True)\n",
    "\n",
    "model.fit(X_flatten, y_train)\n",
    "\n",
    "\n"
   ],
   "id": "8cd1848c40b95865",
   "outputs": [
    {
     "name": "stdout",
     "output_type": "stream",
     "text": [
      "dim :  3\n"
     ]
    }
   ],
   "execution_count": 7
  },
  {
   "metadata": {
    "ExecuteTime": {
     "end_time": "2024-11-24T11:29:50.312312Z",
     "start_time": "2024-11-24T11:29:50.308335Z"
    }
   },
   "cell_type": "code",
   "source": [
    "def print_metrics(y_val_pred,y_val):\n",
    "    from sklearn.metrics import accuracy_score, precision_score, recall_score, f1_score, confusion_matrix, classification_report\n",
    "\n",
    "    # Assuming y_val_pred contains predictions and y_val contains true labels\n",
    "    accuracy = accuracy_score(y_val, y_val_pred)\n",
    "    precision = precision_score(y_val, y_val_pred, average='weighted')\n",
    "    recall = recall_score(y_val, y_val_pred, average='weighted')\n",
    "    f1 = f1_score(y_val, y_val_pred, average='weighted')\n",
    "    conf_matrix = confusion_matrix(y_val, y_val_pred)\n",
    "    \n",
    "    print(\"Accuracy:\", accuracy)\n",
    "    print(\"Precision (Weighted):\", precision)\n",
    "    print(\"Recall (Weighted):\", recall)\n",
    "    print(\"F1-Score (Weighted):\", f1)\n",
    "    print(\"\\nConfusion Matrix:\\n\", conf_matrix)\n",
    "    \n",
    "    # Detailed classification report\n",
    "    print(\"\\nClassification Report:\\n\", classification_report(y_val, y_val_pred))\n"
   ],
   "id": "920247152f9cbf8b",
   "outputs": [],
   "execution_count": 8
  },
  {
   "metadata": {
    "ExecuteTime": {
     "end_time": "2024-11-24T11:29:50.956276Z",
     "start_time": "2024-11-24T11:29:50.704576Z"
    }
   },
   "cell_type": "code",
   "source": [
    "X_val = X_val.reshape(X_val.shape[0], -1) / 255\n",
    "y_val_pred = model.predict(X_val)\n",
    "print_metrics(y_val_pred,y_val)"
   ],
   "id": "f17f79769893a698",
   "outputs": [
    {
     "name": "stdout",
     "output_type": "stream",
     "text": [
      "Accuracy: 0.7732757641177139\n",
      "Precision (Weighted): 0.7792093556987142\n",
      "Recall (Weighted): 0.7732757641177139\n",
      "F1-Score (Weighted): 0.7747572746426413\n",
      "\n",
      "Confusion Matrix:\n",
      " [[20224  5953]\n",
      " [ 4024 13804]]\n",
      "\n",
      "Classification Report:\n",
      "               precision    recall  f1-score   support\n",
      "\n",
      "           0       0.83      0.77      0.80     26177\n",
      "           1       0.70      0.77      0.73     17828\n",
      "\n",
      "    accuracy                           0.77     44005\n",
      "   macro avg       0.77      0.77      0.77     44005\n",
      "weighted avg       0.78      0.77      0.77     44005\n",
      "\n"
     ]
    }
   ],
   "execution_count": 9
  },
  {
   "metadata": {},
   "cell_type": "code",
   "source": "",
   "id": "af926b7cff0f0514",
   "outputs": [],
   "execution_count": null
  },
  {
   "metadata": {},
   "cell_type": "code",
   "source": [
    "import matplotlib.pyplot as plt\n",
    "import scipy\n",
    "def marginal_density(gmm_means, gmm_covs, gmm_probs, dim_to_keep, points):\n",
    "    \"\"\"\n",
    "    Compute the marginal density of the GMM\n",
    "    \"\"\"\n",
    "    density_values = np.zeros(len(points))\n",
    "    \n",
    "    for mean, cov, prob in zip(gmm_means, gmm_covs, gmm_probs):\n",
    "        mean_marginal = mean[dim_to_keep]\n",
    "        cov_marginal = cov[np.ix_(dim_to_keep, dim_to_keep)]\n",
    "        \n",
    "        marginal_gaussian = scipy.stats.multivariate_normal(mean=mean_marginal, cov=cov_marginal)\n",
    "        \n",
    "        # Compute the density for each component\n",
    "        density_values += prob * marginal_gaussian.pdf(points)\n",
    "    \n",
    "    return density_values\n",
    "t = np.linspace(0,1,255)\n",
    "density = marginal_density(model.means_, model.covariances_, model.weights_, [1], t)\n",
    "\n",
    "fix,ax = plt.subplots(1,1)\n",
    "ax.plot(t,density)\n",
    "ax.hist(X_flatten[:,1], bins=255, density=True)\n",
    "plt.show()"
   ],
   "id": "4d67d915f8abeaa9",
   "outputs": [],
   "execution_count": null
  },
  {
   "metadata": {},
   "cell_type": "code",
   "source": "",
   "id": "b8a8351b4e4d39ad",
   "outputs": [],
   "execution_count": null
  }
 ],
 "metadata": {
  "kernelspec": {
   "display_name": "Python 3",
   "language": "python",
   "name": "python3"
  },
  "language_info": {
   "codemirror_mode": {
    "name": "ipython",
    "version": 2
   },
   "file_extension": ".py",
   "mimetype": "text/x-python",
   "name": "python",
   "nbconvert_exporter": "python",
   "pygments_lexer": "ipython2",
   "version": "2.7.6"
  }
 },
 "nbformat": 4,
 "nbformat_minor": 5
}

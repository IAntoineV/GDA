{
 "cells": [
  {
   "metadata": {},
   "cell_type": "markdown",
   "source": [
    "# Medical image analysis based on GMM\n",
    "\n",
    "we will apply GMM to find the distribution of colors in medical images."
   ],
   "id": "af59826615bd8d75"
  },
  {
   "metadata": {
    "ExecuteTime": {
     "end_time": "2024-11-24T13:31:27.306782Z",
     "start_time": "2024-11-24T13:31:27.137198Z"
    }
   },
   "cell_type": "code",
   "source": [
    "import os\n",
    "import scipy\n",
    "import tqdm\n",
    "from PIL import Image\n",
    "import numpy as np\n",
    "import xml.etree.ElementTree as ET\n",
    "import matplotlib.pyplot as plt\n",
    "import matplotlib.patches as patches\n"
   ],
   "id": "81140e9a3d839315",
   "outputs": [],
   "execution_count": 1
  },
  {
   "cell_type": "code",
   "id": "initial_id",
   "metadata": {
    "collapsed": true,
    "ExecuteTime": {
     "end_time": "2024-11-24T13:31:27.315226Z",
     "start_time": "2024-11-24T13:31:27.313221Z"
    }
   },
   "source": [
    "# https://www.kaggle.com/datasets/saife245/tuberculosis-image-datasets\n",
    "path_to_download = \"data/MED\""
   ],
   "outputs": [],
   "execution_count": 2
  },
  {
   "metadata": {},
   "cell_type": "markdown",
   "source": "## Parse data",
   "id": "b66b26a80bad5360"
  },
  {
   "metadata": {
    "ExecuteTime": {
     "end_time": "2024-11-24T13:31:43.749689Z",
     "start_time": "2024-11-24T13:31:27.355080Z"
    }
   },
   "cell_type": "code",
   "source": [
    "def load_jpg(path):\n",
    "    image = Image.open(path)\n",
    "    return np.array(image)\n",
    "def load_xml(path):\n",
    "    tree = ET.parse(path)\n",
    "    root = tree.getroot()\n",
    "    # Accessing object details\n",
    "    \n",
    "    data = []\n",
    "    for obj in root.findall(\"object\"):\n",
    "        label = obj.find(\"label\").text\n",
    "        pose = obj.find(\"pose\").text\n",
    "        truncated = obj.find(\"truncated\").text\n",
    "        occluded = obj.find(\"occluded\").text\n",
    "        \n",
    "        # Access bounding box details\n",
    "        bndbox = obj.find(\"bndbox\")\n",
    "        xmin = bndbox.find(\"xmin\").text\n",
    "        ymin = bndbox.find(\"ymin\").text\n",
    "        xmax = bndbox.find(\"xmax\").text\n",
    "        ymax = bndbox.find(\"ymax\").text\n",
    "    \n",
    "        data.append((xmin,xmax,ymin,ymax, label))\n",
    "    return data\n",
    "def get_data(path):\n",
    "    file_names = os.listdir(path)\n",
    "    data_jpg = {}\n",
    "    data_xml = {}\n",
    "    labels = set()\n",
    "    for file_name in file_names:\n",
    "        file_path = os.path.join(path, file_name)\n",
    "        file_without_ext = file_name.split('.')[0]\n",
    "        if file_name.endswith(\".jpg\"):\n",
    "            data_jpg[file_without_ext] = load_jpg(file_path)\n",
    "        \n",
    "        if file_name.endswith(\".xml\"):\n",
    "            data_xml[file_without_ext] = load_xml(file_path)\n",
    "        assert True, \"Not supported format found in the directory\"\n",
    "    \n",
    "    keys = list(data_jpg.keys())\n",
    "    x = []\n",
    "    y = []\n",
    "    for key in keys:\n",
    "        x.append(data_jpg[key])\n",
    "        y.append(data_xml[key])\n",
    "    return x, y, keys\n",
    "    \n",
    "    \n",
    "x,y, file_name = get_data(path_to_download)\n"
   ],
   "id": "3a85e7f86c5c0223",
   "outputs": [],
   "execution_count": 3
  },
  {
   "metadata": {
    "ExecuteTime": {
     "end_time": "2024-11-24T13:31:43.758353Z",
     "start_time": "2024-11-24T13:31:43.755495Z"
    }
   },
   "cell_type": "code",
   "source": [
    "def get_labelled_pixel(x,y):\n",
    "    \n",
    "    tuberculosis_pixelled = []  # Tuberculosis pixels\n",
    "    non_tuberculosis_pixelled = []  # Non-tuberculosis pixels\n",
    "     \n",
    "    for img, boxes in tqdm.tqdm(list(zip(x, y))):\n",
    "        # Initialize masks for tuberculosis and non-tuberculosis pixels\n",
    "        mask_tuberculosis = np.zeros(img.shape[:2], dtype=bool)  # Binary mask for tuberculosis regions\n",
    "\n",
    "        for box in boxes:\n",
    "            xmin, xmax, ymin, ymax, label = box \n",
    "            mask_tuberculosis[int(xmin):int(xmax), int(ymin):int(ymax)] = True \n",
    "        \n",
    "        # Extract tuberculosis pixels\n",
    "        tuberculosis_pixels = img[mask_tuberculosis].reshape(-1,3)\n",
    "        tuberculosis_pixelled.append(tuberculosis_pixels)\n",
    "\n",
    "        # Extract non-tuberculosis pixels\n",
    "        mask_non_tuberculosis = ~mask_tuberculosis\n",
    "        non_tuberculosis_pixels = img[mask_non_tuberculosis].reshape(-1,3)\n",
    "        non_tuberculosis_pixelled.append(non_tuberculosis_pixels)\n",
    "    \n",
    "    tuberculosis_pixels_flat = np.concatenate(tuberculosis_pixelled, axis=0)  # All tuberculosis pixels in one array\n",
    "    normal_pixels_flat = np.concatenate(non_tuberculosis_pixelled, axis=0)  # All normal pixels in one array\n",
    "    \n",
    "    # Generate labels\n",
    "    y_tuberculosis = np.ones(tuberculosis_pixels_flat.shape[0])  # Label 1 for tuberculosis\n",
    "    y_normal = np.zeros(normal_pixels_flat.shape[0])  # Label 0 for normal\n",
    "\n",
    "    # Concatenate data and labels\n",
    "    X = np.concatenate([tuberculosis_pixels_flat, normal_pixels_flat], axis=0)  # Combine all pixels\n",
    "    y = np.concatenate([y_tuberculosis, y_normal], axis=0)  # Combine all labels\n",
    "    \n",
    "    # Shuffle the dataset\n",
    "    print(\"suffling\")\n",
    "    indices = np.random.permutation(X.shape[0])  # Generate a random permutation of indices\n",
    "    X = X[indices]  # Shuffle X\n",
    "    y = y[indices]  # Shuffle y to match X\n",
    "    \n",
    "    return X, y\n",
    "\n",
    "        "
   ],
   "id": "43437e6c88f1f907",
   "outputs": [],
   "execution_count": 4
  },
  {
   "metadata": {
    "ExecuteTime": {
     "end_time": "2024-11-24T13:31:58.769358Z",
     "start_time": "2024-11-24T13:31:43.816793Z"
    }
   },
   "cell_type": "code",
   "source": " X_pixelled, y_pixelled = get_labelled_pixel(x[:100],y[:100])\n",
   "id": "e1aa6f954533ac20",
   "outputs": [
    {
     "name": "stderr",
     "output_type": "stream",
     "text": [
      "100%|██████████| 100/100 [00:02<00:00, 43.54it/s]\n"
     ]
    },
    {
     "name": "stdout",
     "output_type": "stream",
     "text": [
      "suffling\n"
     ]
    }
   ],
   "execution_count": 5
  },
  {
   "metadata": {
    "ExecuteTime": {
     "end_time": "2024-11-24T13:34:49.737134Z",
     "start_time": "2024-11-24T13:34:49.593874Z"
    }
   },
   "cell_type": "code",
   "source": [
    "nb_data_considered= int(1e6)\n",
    "nb_data_test = int(1e4)\n",
    "x_train,x_test = X_pixelled[:nb_data_considered], X_pixelled[nb_data_considered:nb_data_considered + nb_data_test]\n",
    "y_train, y_test = y_pixelled[:nb_data_considered], y_pixelled[nb_data_considered:nb_data_considered+ nb_data_test]\n",
    "plt.hist(x_train[:,0], bins=255, density=True)\n",
    "plt.show()"
   ],
   "id": "a37bc1401d33b8ae",
   "outputs": [
    {
     "data": {
      "text/plain": [
       "<Figure size 640x480 with 1 Axes>"
      ],
      "image/png": "[encoded data removed]"
     },
     "metadata": {},
     "output_type": "display_data"
    }
   ],
   "execution_count": 12
  },
  {
   "metadata": {},
   "cell_type": "markdown",
   "source": "",
   "id": "3502ae5b5235d881"
  },
  {
   "metadata": {
    "ExecuteTime": {
     "end_time": "2024-11-24T13:35:13.598360Z",
     "start_time": "2024-11-24T13:34:51.879356Z"
    }
   },
   "cell_type": "code",
   "source": [
    "from GDA import GDA\n",
    "\n",
    "model = GDA(5)\n",
    "model.fit(x_train, y_train)"
   ],
   "id": "577f70e460b20d1d",
   "outputs": [],
   "execution_count": 13
  },
  {
   "metadata": {},
   "cell_type": "markdown",
   "source": "## Study GDA",
   "id": "c2419201f932e00d"
  },
  {
   "metadata": {
    "ExecuteTime": {
     "end_time": "2024-11-24T13:35:13.629359Z",
     "start_time": "2024-11-24T13:35:13.603175Z"
    }
   },
   "cell_type": "code",
   "source": [
    "def print_metrics(y_val_pred,y_val):\n",
    "    from sklearn.metrics import accuracy_score, precision_score, recall_score, f1_score, confusion_matrix, classification_report\n",
    "\n",
    "    # Assuming y_val_pred contains predictions and y_val contains true labels\n",
    "    accuracy = accuracy_score(y_val, y_val_pred)\n",
    "    precision = precision_score(y_val, y_val_pred, average='weighted')\n",
    "    recall = recall_score(y_val, y_val_pred, average='weighted')\n",
    "    f1 = f1_score(y_val, y_val_pred, average='weighted')\n",
    "    conf_matrix = confusion_matrix(y_val, y_val_pred)\n",
    "    \n",
    "    print(\"Accuracy:\", accuracy)\n",
    "    print(\"Precision (Weighted):\", precision)\n",
    "    print(\"Recall (Weighted):\", recall)\n",
    "    print(\"F1-Score (Weighted):\", f1)\n",
    "    print(\"\\nConfusion Matrix:\\n\", conf_matrix)\n",
    "    \n",
    "    # Detailed classification report\n",
    "    print(\"\\nClassification Report:\\n\", classification_report(y_val, y_val_pred))\n",
    "    \n",
    "nb_considered = int(1e5)\n",
    "y_test_pred = model.predict(x_test)\n",
    "print_metrics(y_test_pred,y_test)"
   ],
   "id": "33bcf3c316788bb5",
   "outputs": [
    {
     "name": "stdout",
     "output_type": "stream",
     "text": [
      "Accuracy: 0.4484\n",
      "Precision (Weighted): 0.9713974324845153\n",
      "Recall (Weighted): 0.4484\n",
      "F1-Score (Weighted): 0.606143290204265\n",
      "\n",
      "Confusion Matrix:\n",
      " [[4401 5452]\n",
      " [  64   83]]\n",
      "\n",
      "Classification Report:\n",
      "               precision    recall  f1-score   support\n",
      "\n",
      "         0.0       0.99      0.45      0.61      9853\n",
      "         1.0       0.01      0.56      0.03       147\n",
      "\n",
      "    accuracy                           0.45     10000\n",
      "   macro avg       0.50      0.51      0.32     10000\n",
      "weighted avg       0.97      0.45      0.61     10000\n",
      "\n"
     ]
    }
   ],
   "execution_count": 14
  },
  {
   "metadata": {
    "ExecuteTime": {
     "end_time": "2024-11-24T13:32:07.792190Z",
     "start_time": "2024-11-24T13:32:05.011105Z"
    }
   },
   "cell_type": "code",
   "source": [
    "def transform_img(img, trained_model):\n",
    "    img_shape = img.shape\n",
    "    img_pixeled = img.reshape(-1,3)\n",
    "    classes = trained_model.predict(img_pixeled)\n",
    "    predicted_pixeled = trained_model.means_[classes]\n",
    "    img_pred = predicted_pixeled.reshape(img_shape)\n",
    "    return img_pred\n",
    "\n",
    "def add_labels(boxes, ax):\n",
    "    for box in boxes:\n",
    "        xmin,xmax,ymin,ymax, _ = box\n",
    "        xmin,xmax,ymin,ymax = int(xmin),int(xmax),int(ymin),int(ymax)\n",
    "        rectangle = patches.Rectangle((xmin, ymin), xmax - xmin, ymax - ymin,\n",
    "                         linewidth=2, edgecolor='red', facecolor='none')\n",
    "        ax.add_patch(rectangle)\n",
    "        \n",
    "        \n",
    "img_0 = x[0]\n",
    "result = transform_img(img_0, model)\n",
    "result = np.rint(result).astype(np.uint8)\n",
    "fix,ax = plt.subplots(2,1)\n",
    "add_labels(y[0], ax[0])\n",
    "ax[0].imshow(img_0)\n",
    "ax[1].imshow(result)\n",
    "print(img_0.shape)\n",
    "    "
   ],
   "id": "31de1fc78f3d6bef",
   "outputs": [
    {
     "ename": "AttributeError",
     "evalue": "'GDA' object has no attribute 'means_'",
     "output_type": "error",
     "traceback": [
      "\u001B[0;31m---------------------------------------------------------------------------\u001B[0m",
      "\u001B[0;31mAttributeError\u001B[0m                            Traceback (most recent call last)",
      "Cell \u001B[0;32mIn[9], line 19\u001B[0m\n\u001B[1;32m     15\u001B[0m         ax\u001B[38;5;241m.\u001B[39madd_patch(rectangle)\n\u001B[1;32m     18\u001B[0m img_0 \u001B[38;5;241m=\u001B[39m x[\u001B[38;5;241m0\u001B[39m]\n\u001B[0;32m---> 19\u001B[0m result \u001B[38;5;241m=\u001B[39m \u001B[43mtransform_img\u001B[49m\u001B[43m(\u001B[49m\u001B[43mimg_0\u001B[49m\u001B[43m,\u001B[49m\u001B[43m \u001B[49m\u001B[43mmodel\u001B[49m\u001B[43m)\u001B[49m\n\u001B[1;32m     20\u001B[0m result \u001B[38;5;241m=\u001B[39m np\u001B[38;5;241m.\u001B[39mrint(result)\u001B[38;5;241m.\u001B[39mastype(np\u001B[38;5;241m.\u001B[39muint8)\n\u001B[1;32m     21\u001B[0m fix,ax \u001B[38;5;241m=\u001B[39m plt\u001B[38;5;241m.\u001B[39msubplots(\u001B[38;5;241m2\u001B[39m,\u001B[38;5;241m1\u001B[39m)\n",
      "Cell \u001B[0;32mIn[9], line 5\u001B[0m, in \u001B[0;36mtransform_img\u001B[0;34m(img, trained_model)\u001B[0m\n\u001B[1;32m      3\u001B[0m img_pixeled \u001B[38;5;241m=\u001B[39m img\u001B[38;5;241m.\u001B[39mreshape(\u001B[38;5;241m-\u001B[39m\u001B[38;5;241m1\u001B[39m,\u001B[38;5;241m3\u001B[39m)\n\u001B[1;32m      4\u001B[0m classes \u001B[38;5;241m=\u001B[39m trained_model\u001B[38;5;241m.\u001B[39mpredict(img_pixeled)\n\u001B[0;32m----> 5\u001B[0m predicted_pixeled \u001B[38;5;241m=\u001B[39m \u001B[43mtrained_model\u001B[49m\u001B[38;5;241;43m.\u001B[39;49m\u001B[43mmeans_\u001B[49m[classes]\n\u001B[1;32m      6\u001B[0m img_pred \u001B[38;5;241m=\u001B[39m predicted_pixeled\u001B[38;5;241m.\u001B[39mreshape(img_shape)\n\u001B[1;32m      7\u001B[0m \u001B[38;5;28;01mreturn\u001B[39;00m img_pred\n",
      "\u001B[0;31mAttributeError\u001B[0m: 'GDA' object has no attribute 'means_'"
     ]
    }
   ],
   "execution_count": 9
  },
  {
   "metadata": {
    "ExecuteTime": {
     "end_time": "2024-11-24T13:32:07.795752867Z",
     "start_time": "2024-10-29T18:27:44.361648Z"
    }
   },
   "cell_type": "code",
   "source": [
    "img_0 = x[0]\n",
    "result = transform_img(img_0, model)\n",
    "result = np.rint(result).astype(np.uint8)\n",
    "nb_box = len(y[0])\n",
    "fix,ax = plt.subplots(2,nb_box)\n",
    "for k,box in enumerate(y[0]):\n",
    "    xmin,xmax,ymin,ymax, _ = box\n",
    "    xmin,xmax,ymin,ymax = int(xmin),int(xmax),int(ymin),int(ymax)\n",
    "    xmin, ymin = max(0, xmin), max(0, ymin)\n",
    "    xmax, ymax = min(img_0.shape[1], xmax), min(img_0.shape[0], ymax)\n",
    "    print(xmin,xmax,ymin,ymax)\n",
    "    ax[0][k].imshow(img_0[ymin:ymax, xmin:xmax])\n",
    "    ax[1][k].imshow(result[ymin:ymax, xmin:xmax])\n",
    "    "
   ],
   "id": "5cb90c139effabbf",
   "outputs": [
    {
     "ename": "NameError",
     "evalue": "name 'x' is not defined",
     "output_type": "error",
     "traceback": [
      "\u001B[0;31m---------------------------------------------------------------------------\u001B[0m",
      "\u001B[0;31mNameError\u001B[0m                                 Traceback (most recent call last)",
      "Cell \u001B[0;32mIn[1], line 1\u001B[0m\n\u001B[0;32m----> 1\u001B[0m img_0 \u001B[38;5;241m=\u001B[39m \u001B[43mx\u001B[49m[\u001B[38;5;241m0\u001B[39m]\n\u001B[1;32m      2\u001B[0m result \u001B[38;5;241m=\u001B[39m transform_img(img_0, model)\n\u001B[1;32m      3\u001B[0m result \u001B[38;5;241m=\u001B[39m np\u001B[38;5;241m.\u001B[39mrint(result)\u001B[38;5;241m.\u001B[39mastype(np\u001B[38;5;241m.\u001B[39muint8)\n",
      "\u001B[0;31mNameError\u001B[0m: name 'x' is not defined"
     ]
    }
   ],
   "execution_count": 1
  },
  {
   "metadata": {
    "ExecuteTime": {
     "end_time": "2024-11-24T13:32:07.796112960Z",
     "start_time": "2024-10-28T15:49:37.659125Z"
    }
   },
   "cell_type": "code",
   "source": [
    "\n",
    "def marginal_density(gmm_means, gmm_covs, gmm_probs, dim_to_keep, points):\n",
    "    \"\"\"\n",
    "    Compute the marginal density of the GMM\n",
    "    \"\"\"\n",
    "    density_values = np.zeros(len(points))\n",
    "    \n",
    "    for mean, cov, prob in zip(gmm_means, gmm_covs, gmm_probs):\n",
    "        mean_marginal = mean[dim_to_keep]\n",
    "        cov_marginal = cov[np.ix_(dim_to_keep, dim_to_keep)]\n",
    "        \n",
    "        marginal_gaussian = scipy.stats.multivariate_normal(mean=mean_marginal, cov=cov_marginal)\n",
    "        \n",
    "        # Compute the density for each component\n",
    "        density_values += prob * marginal_gaussian.pdf(points)\n",
    "    \n",
    "    return density_values\n",
    "\n",
    "\n",
    "density = marginal_density(model.means_, model.covariances_, model.weights_, [1], np.arange(255))\n",
    "fix,ax = plt.subplots(1,1)\n",
    "ax.plot(density)\n",
    "ax.hist(x_pixel[:nb_data_considered,1], bins=255, density=True)\n",
    "plt.show()"
   ],
   "id": "3902898071e3e5e3",
   "outputs": [
    {
     "data": {
      "text/plain": [
       "<Figure size 640x480 with 1 Axes>"
      ],
      "image/png": "[encoded data removed]"
     },
     "metadata": {},
     "output_type": "display_data"
    }
   ],
   "execution_count": 73
  },
  {
   "metadata": {
    "ExecuteTime": {
     "end_time": "2024-11-24T13:32:07.796304241Z",
     "start_time": "2024-10-28T15:49:02.423031Z"
    }
   },
   "cell_type": "code",
   "source": "",
   "id": "b4a801b09beb4baf",
   "outputs": [],
   "execution_count": null
  }
 ],
 "metadata": {
  "kernelspec": {
   "display_name": "Python 3",
   "language": "python",
   "name": "python3"
  },
  "language_info": {
   "codemirror_mode": {
    "name": "ipython",
    "version": 2
   },
   "file_extension": ".py",
   "mimetype": "text/x-python",
   "name": "python",
   "nbconvert_exporter": "python",
   "pygments_lexer": "ipython2",
   "version": "2.7.6"
  }
 },
 "nbformat": 4,
 "nbformat_minor": 5
}
